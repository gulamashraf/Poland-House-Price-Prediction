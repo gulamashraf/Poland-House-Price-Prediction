{
 "cells": [
  {
   "cell_type": "markdown",
   "id": "87a19244",
   "metadata": {},
   "source": [
    "## Poland House Price Prediction\n",
    "\n",
    "\n",
    "Given data about houses Poland, let's try to predict the price of a given house.\n",
    "\n",
    "We will use a gradient boosting regression model to make our prediction"
   ]
  },
  {
   "cell_type": "code",
   "execution_count": 1,
   "id": "e51fbff9",
   "metadata": {},
   "outputs": [],
   "source": [
    "# Loading libraries\n",
    "\n",
    "import pandas as pd\n",
    "import numpy as np\n",
    "\n",
    "from sklearn.model_selection import train_test_split\n",
    "from sklearn.preprocessing import OneHotEncoder, StandardScaler\n",
    "from sklearn.compose import ColumnTransformer\n",
    "from sklearn.pipeline import Pipeline\n",
    "\n",
    "\n",
    "from sklearn.ensemble import GradientBoostingRegressor"
   ]
  },
  {
   "cell_type": "code",
   "execution_count": 2,
   "id": "815e23a6",
   "metadata": {},
   "outputs": [
    {
     "data": {
      "text/html": [
       "<div>\n",
       "<style scoped>\n",
       "    .dataframe tbody tr th:only-of-type {\n",
       "        vertical-align: middle;\n",
       "    }\n",
       "\n",
       "    .dataframe tbody tr th {\n",
       "        vertical-align: top;\n",
       "    }\n",
       "\n",
       "    .dataframe thead th {\n",
       "        text-align: right;\n",
       "    }\n",
       "</style>\n",
       "<table border=\"1\" class=\"dataframe\">\n",
       "  <thead>\n",
       "    <tr style=\"text-align: right;\">\n",
       "      <th></th>\n",
       "      <th>Unnamed: 0</th>\n",
       "      <th>address</th>\n",
       "      <th>city</th>\n",
       "      <th>floor</th>\n",
       "      <th>id</th>\n",
       "      <th>latitude</th>\n",
       "      <th>longitude</th>\n",
       "      <th>price</th>\n",
       "      <th>rooms</th>\n",
       "      <th>sq</th>\n",
       "      <th>year</th>\n",
       "    </tr>\n",
       "  </thead>\n",
       "  <tbody>\n",
       "    <tr>\n",
       "      <th>0</th>\n",
       "      <td>0</td>\n",
       "      <td>Podgórze Zab³ocie Stanis³awa Klimeckiego</td>\n",
       "      <td>Kraków</td>\n",
       "      <td>2.0</td>\n",
       "      <td>23918.0</td>\n",
       "      <td>50.049224</td>\n",
       "      <td>19.970379</td>\n",
       "      <td>749000.0</td>\n",
       "      <td>3.0</td>\n",
       "      <td>74.05</td>\n",
       "      <td>2021.0</td>\n",
       "    </tr>\n",
       "    <tr>\n",
       "      <th>1</th>\n",
       "      <td>1</td>\n",
       "      <td>Praga-Po³udnie Grochowska</td>\n",
       "      <td>Warszawa</td>\n",
       "      <td>3.0</td>\n",
       "      <td>17828.0</td>\n",
       "      <td>52.249775</td>\n",
       "      <td>21.106886</td>\n",
       "      <td>240548.0</td>\n",
       "      <td>1.0</td>\n",
       "      <td>24.38</td>\n",
       "      <td>2021.0</td>\n",
       "    </tr>\n",
       "    <tr>\n",
       "      <th>2</th>\n",
       "      <td>2</td>\n",
       "      <td>Krowodrza Czarnowiejska</td>\n",
       "      <td>Kraków</td>\n",
       "      <td>2.0</td>\n",
       "      <td>22784.0</td>\n",
       "      <td>50.066964</td>\n",
       "      <td>19.920025</td>\n",
       "      <td>427000.0</td>\n",
       "      <td>2.0</td>\n",
       "      <td>37.00</td>\n",
       "      <td>1970.0</td>\n",
       "    </tr>\n",
       "    <tr>\n",
       "      <th>3</th>\n",
       "      <td>3</td>\n",
       "      <td>Grunwald</td>\n",
       "      <td>Poznañ</td>\n",
       "      <td>2.0</td>\n",
       "      <td>4315.0</td>\n",
       "      <td>52.404212</td>\n",
       "      <td>16.882542</td>\n",
       "      <td>1290000.0</td>\n",
       "      <td>5.0</td>\n",
       "      <td>166.00</td>\n",
       "      <td>1935.0</td>\n",
       "    </tr>\n",
       "    <tr>\n",
       "      <th>4</th>\n",
       "      <td>4</td>\n",
       "      <td>Ochota Gotowy budynek. Stan deweloperski. Osta...</td>\n",
       "      <td>Warszawa</td>\n",
       "      <td>1.0</td>\n",
       "      <td>11770.0</td>\n",
       "      <td>52.212225</td>\n",
       "      <td>20.972630</td>\n",
       "      <td>996000.0</td>\n",
       "      <td>5.0</td>\n",
       "      <td>105.00</td>\n",
       "      <td>2020.0</td>\n",
       "    </tr>\n",
       "    <tr>\n",
       "      <th>...</th>\n",
       "      <td>...</td>\n",
       "      <td>...</td>\n",
       "      <td>...</td>\n",
       "      <td>...</td>\n",
       "      <td>...</td>\n",
       "      <td>...</td>\n",
       "      <td>...</td>\n",
       "      <td>...</td>\n",
       "      <td>...</td>\n",
       "      <td>...</td>\n",
       "      <td>...</td>\n",
       "    </tr>\n",
       "    <tr>\n",
       "      <th>23759</th>\n",
       "      <td>23759</td>\n",
       "      <td>Stare Miasto Naramowice</td>\n",
       "      <td>Poznañ</td>\n",
       "      <td>0.0</td>\n",
       "      <td>3976.0</td>\n",
       "      <td>52.449649</td>\n",
       "      <td>16.949408</td>\n",
       "      <td>543000.0</td>\n",
       "      <td>4.0</td>\n",
       "      <td>77.00</td>\n",
       "      <td>2020.0</td>\n",
       "    </tr>\n",
       "    <tr>\n",
       "      <th>23760</th>\n",
       "      <td>23760</td>\n",
       "      <td>W³ochy</td>\n",
       "      <td>Warszawa</td>\n",
       "      <td>4.0</td>\n",
       "      <td>10206.0</td>\n",
       "      <td>52.186109</td>\n",
       "      <td>20.948438</td>\n",
       "      <td>910000.0</td>\n",
       "      <td>3.0</td>\n",
       "      <td>71.00</td>\n",
       "      <td>2017.0</td>\n",
       "    </tr>\n",
       "    <tr>\n",
       "      <th>23761</th>\n",
       "      <td>23761</td>\n",
       "      <td>Nowe Miasto Malta ul. Katowicka</td>\n",
       "      <td>Poznañ</td>\n",
       "      <td>0.0</td>\n",
       "      <td>4952.0</td>\n",
       "      <td>52.397345</td>\n",
       "      <td>16.961939</td>\n",
       "      <td>430695.0</td>\n",
       "      <td>3.0</td>\n",
       "      <td>50.67</td>\n",
       "      <td>2022.0</td>\n",
       "    </tr>\n",
       "    <tr>\n",
       "      <th>23762</th>\n",
       "      <td>23762</td>\n",
       "      <td>Podgórze Duchackie Walerego S³awka</td>\n",
       "      <td>Kraków</td>\n",
       "      <td>6.0</td>\n",
       "      <td>24148.0</td>\n",
       "      <td>50.024231</td>\n",
       "      <td>19.959569</td>\n",
       "      <td>359000.0</td>\n",
       "      <td>2.0</td>\n",
       "      <td>38.86</td>\n",
       "      <td>2021.0</td>\n",
       "    </tr>\n",
       "    <tr>\n",
       "      <th>23763</th>\n",
       "      <td>23763</td>\n",
       "      <td>Ursynów</td>\n",
       "      <td>Warszawa</td>\n",
       "      <td>2.0</td>\n",
       "      <td>10889.0</td>\n",
       "      <td>52.141039</td>\n",
       "      <td>21.032321</td>\n",
       "      <td>604800.0</td>\n",
       "      <td>3.0</td>\n",
       "      <td>63.00</td>\n",
       "      <td>1978.0</td>\n",
       "    </tr>\n",
       "  </tbody>\n",
       "</table>\n",
       "<p>23764 rows × 11 columns</p>\n",
       "</div>"
      ],
      "text/plain": [
       "       Unnamed: 0                                            address  \\\n",
       "0               0           Podgórze Zab³ocie Stanis³awa Klimeckiego   \n",
       "1               1                          Praga-Po³udnie Grochowska   \n",
       "2               2                            Krowodrza Czarnowiejska   \n",
       "3               3                                           Grunwald   \n",
       "4               4  Ochota Gotowy budynek. Stan deweloperski. Osta...   \n",
       "...           ...                                                ...   \n",
       "23759       23759                            Stare Miasto Naramowice   \n",
       "23760       23760                                             W³ochy   \n",
       "23761       23761                    Nowe Miasto Malta ul. Katowicka   \n",
       "23762       23762                 Podgórze Duchackie Walerego S³awka   \n",
       "23763       23763                                            Ursynów   \n",
       "\n",
       "           city  floor       id   latitude  longitude      price  rooms  \\\n",
       "0        Kraków    2.0  23918.0  50.049224  19.970379   749000.0    3.0   \n",
       "1      Warszawa    3.0  17828.0  52.249775  21.106886   240548.0    1.0   \n",
       "2        Kraków    2.0  22784.0  50.066964  19.920025   427000.0    2.0   \n",
       "3        Poznañ    2.0   4315.0  52.404212  16.882542  1290000.0    5.0   \n",
       "4      Warszawa    1.0  11770.0  52.212225  20.972630   996000.0    5.0   \n",
       "...         ...    ...      ...        ...        ...        ...    ...   \n",
       "23759    Poznañ    0.0   3976.0  52.449649  16.949408   543000.0    4.0   \n",
       "23760  Warszawa    4.0  10206.0  52.186109  20.948438   910000.0    3.0   \n",
       "23761    Poznañ    0.0   4952.0  52.397345  16.961939   430695.0    3.0   \n",
       "23762    Kraków    6.0  24148.0  50.024231  19.959569   359000.0    2.0   \n",
       "23763  Warszawa    2.0  10889.0  52.141039  21.032321   604800.0    3.0   \n",
       "\n",
       "           sq    year  \n",
       "0       74.05  2021.0  \n",
       "1       24.38  2021.0  \n",
       "2       37.00  1970.0  \n",
       "3      166.00  1935.0  \n",
       "4      105.00  2020.0  \n",
       "...       ...     ...  \n",
       "23759   77.00  2020.0  \n",
       "23760   71.00  2017.0  \n",
       "23761   50.67  2022.0  \n",
       "23762   38.86  2021.0  \n",
       "23763   63.00  1978.0  \n",
       "\n",
       "[23764 rows x 11 columns]"
      ]
     },
     "execution_count": 2,
     "metadata": {},
     "output_type": "execute_result"
    }
   ],
   "source": [
    "data = pd.read_csv(\"C:/Users/Ashraf/Documents/Zoom/Houses.csv\", encoding='latin-1')\n",
    "data"
   ]
  },
  {
   "cell_type": "code",
   "execution_count": 3,
   "id": "e67592f8",
   "metadata": {},
   "outputs": [
    {
     "name": "stdout",
     "output_type": "stream",
     "text": [
      "<class 'pandas.core.frame.DataFrame'>\n",
      "RangeIndex: 23764 entries, 0 to 23763\n",
      "Data columns (total 11 columns):\n",
      " #   Column      Non-Null Count  Dtype  \n",
      "---  ------      --------------  -----  \n",
      " 0   Unnamed: 0  23764 non-null  int64  \n",
      " 1   address     23764 non-null  object \n",
      " 2   city        23764 non-null  object \n",
      " 3   floor       23764 non-null  float64\n",
      " 4   id          23764 non-null  float64\n",
      " 5   latitude    23764 non-null  float64\n",
      " 6   longitude   23764 non-null  float64\n",
      " 7   price       23764 non-null  float64\n",
      " 8   rooms       23764 non-null  float64\n",
      " 9   sq          23764 non-null  float64\n",
      " 10  year        23764 non-null  float64\n",
      "dtypes: float64(8), int64(1), object(2)\n",
      "memory usage: 2.0+ MB\n"
     ]
    }
   ],
   "source": [
    "data.info()"
   ]
  },
  {
   "cell_type": "markdown",
   "id": "bb6ec152",
   "metadata": {},
   "source": [
    "## Preprocessing"
   ]
  },
  {
   "cell_type": "code",
   "execution_count": 6,
   "id": "bce8f9ef",
   "metadata": {},
   "outputs": [],
   "source": [
    "def preprocess_inputs(df):\n",
    "    df = df.copy()\n",
    "    df = df.drop(['Unnamed: 0', 'address','id'],axis=1)\n",
    "    \n",
    "    # split df into X and y\n",
    "    y = df['price']\n",
    "    X = df.drop('price',axis=1)\n",
    "    \n",
    "    # Train_test_split\n",
    "    X_train,X_test,y_train,y_test = train_test_split(X,y, train_size=0.7, shuffle=True, random_state=42)\n",
    "    \n",
    "    return  X_train,X_test,y_train,y_test "
   ]
  },
  {
   "cell_type": "code",
   "execution_count": 7,
   "id": "d71aedef",
   "metadata": {},
   "outputs": [],
   "source": [
    " X_train,X_test,y_train,y_test  = preprocess_inputs(data)"
   ]
  },
  {
   "cell_type": "code",
   "execution_count": 8,
   "id": "c7a74d13",
   "metadata": {},
   "outputs": [
    {
     "data": {
      "text/html": [
       "<div>\n",
       "<style scoped>\n",
       "    .dataframe tbody tr th:only-of-type {\n",
       "        vertical-align: middle;\n",
       "    }\n",
       "\n",
       "    .dataframe tbody tr th {\n",
       "        vertical-align: top;\n",
       "    }\n",
       "\n",
       "    .dataframe thead th {\n",
       "        text-align: right;\n",
       "    }\n",
       "</style>\n",
       "<table border=\"1\" class=\"dataframe\">\n",
       "  <thead>\n",
       "    <tr style=\"text-align: right;\">\n",
       "      <th></th>\n",
       "      <th>city</th>\n",
       "      <th>floor</th>\n",
       "      <th>latitude</th>\n",
       "      <th>longitude</th>\n",
       "      <th>rooms</th>\n",
       "      <th>sq</th>\n",
       "      <th>year</th>\n",
       "    </tr>\n",
       "  </thead>\n",
       "  <tbody>\n",
       "    <tr>\n",
       "      <th>1576</th>\n",
       "      <td>Kraków</td>\n",
       "      <td>3.0</td>\n",
       "      <td>50.058788</td>\n",
       "      <td>19.950060</td>\n",
       "      <td>3.0</td>\n",
       "      <td>59.00</td>\n",
       "      <td>2016.0</td>\n",
       "    </tr>\n",
       "    <tr>\n",
       "      <th>7101</th>\n",
       "      <td>Warszawa</td>\n",
       "      <td>1.0</td>\n",
       "      <td>52.201321</td>\n",
       "      <td>20.962718</td>\n",
       "      <td>4.0</td>\n",
       "      <td>94.00</td>\n",
       "      <td>2000.0</td>\n",
       "    </tr>\n",
       "    <tr>\n",
       "      <th>14853</th>\n",
       "      <td>Warszawa</td>\n",
       "      <td>8.0</td>\n",
       "      <td>52.229876</td>\n",
       "      <td>20.909551</td>\n",
       "      <td>2.0</td>\n",
       "      <td>45.80</td>\n",
       "      <td>1980.0</td>\n",
       "    </tr>\n",
       "    <tr>\n",
       "      <th>16091</th>\n",
       "      <td>Kraków</td>\n",
       "      <td>3.0</td>\n",
       "      <td>50.052768</td>\n",
       "      <td>19.928241</td>\n",
       "      <td>2.0</td>\n",
       "      <td>45.80</td>\n",
       "      <td>2019.0</td>\n",
       "    </tr>\n",
       "    <tr>\n",
       "      <th>12218</th>\n",
       "      <td>Kraków</td>\n",
       "      <td>0.0</td>\n",
       "      <td>50.048456</td>\n",
       "      <td>19.959778</td>\n",
       "      <td>3.0</td>\n",
       "      <td>84.00</td>\n",
       "      <td>2010.0</td>\n",
       "    </tr>\n",
       "    <tr>\n",
       "      <th>...</th>\n",
       "      <td>...</td>\n",
       "      <td>...</td>\n",
       "      <td>...</td>\n",
       "      <td>...</td>\n",
       "      <td>...</td>\n",
       "      <td>...</td>\n",
       "      <td>...</td>\n",
       "    </tr>\n",
       "    <tr>\n",
       "      <th>21575</th>\n",
       "      <td>Poznañ</td>\n",
       "      <td>0.0</td>\n",
       "      <td>52.407393</td>\n",
       "      <td>16.979467</td>\n",
       "      <td>2.0</td>\n",
       "      <td>36.72</td>\n",
       "      <td>2021.0</td>\n",
       "    </tr>\n",
       "    <tr>\n",
       "      <th>5390</th>\n",
       "      <td>Warszawa</td>\n",
       "      <td>1.0</td>\n",
       "      <td>52.174545</td>\n",
       "      <td>21.111017</td>\n",
       "      <td>4.0</td>\n",
       "      <td>108.00</td>\n",
       "      <td>2020.0</td>\n",
       "    </tr>\n",
       "    <tr>\n",
       "      <th>860</th>\n",
       "      <td>Kraków</td>\n",
       "      <td>3.0</td>\n",
       "      <td>50.059040</td>\n",
       "      <td>19.937168</td>\n",
       "      <td>4.0</td>\n",
       "      <td>140.00</td>\n",
       "      <td>1900.0</td>\n",
       "    </tr>\n",
       "    <tr>\n",
       "      <th>15795</th>\n",
       "      <td>Kraków</td>\n",
       "      <td>4.0</td>\n",
       "      <td>50.010297</td>\n",
       "      <td>20.008570</td>\n",
       "      <td>4.0</td>\n",
       "      <td>69.19</td>\n",
       "      <td>2021.0</td>\n",
       "    </tr>\n",
       "    <tr>\n",
       "      <th>23654</th>\n",
       "      <td>Poznañ</td>\n",
       "      <td>2.0</td>\n",
       "      <td>52.422602</td>\n",
       "      <td>16.917530</td>\n",
       "      <td>6.0</td>\n",
       "      <td>136.47</td>\n",
       "      <td>2020.0</td>\n",
       "    </tr>\n",
       "  </tbody>\n",
       "</table>\n",
       "<p>16634 rows × 7 columns</p>\n",
       "</div>"
      ],
      "text/plain": [
       "           city  floor   latitude  longitude  rooms      sq    year\n",
       "1576     Kraków    3.0  50.058788  19.950060    3.0   59.00  2016.0\n",
       "7101   Warszawa    1.0  52.201321  20.962718    4.0   94.00  2000.0\n",
       "14853  Warszawa    8.0  52.229876  20.909551    2.0   45.80  1980.0\n",
       "16091    Kraków    3.0  50.052768  19.928241    2.0   45.80  2019.0\n",
       "12218    Kraków    0.0  50.048456  19.959778    3.0   84.00  2010.0\n",
       "...         ...    ...        ...        ...    ...     ...     ...\n",
       "21575    Poznañ    0.0  52.407393  16.979467    2.0   36.72  2021.0\n",
       "5390   Warszawa    1.0  52.174545  21.111017    4.0  108.00  2020.0\n",
       "860      Kraków    3.0  50.059040  19.937168    4.0  140.00  1900.0\n",
       "15795    Kraków    4.0  50.010297  20.008570    4.0   69.19  2021.0\n",
       "23654    Poznañ    2.0  52.422602  16.917530    6.0  136.47  2020.0\n",
       "\n",
       "[16634 rows x 7 columns]"
      ]
     },
     "execution_count": 8,
     "metadata": {},
     "output_type": "execute_result"
    }
   ],
   "source": [
    "X_train"
   ]
  },
  {
   "cell_type": "code",
   "execution_count": 9,
   "id": "076a1e49",
   "metadata": {},
   "outputs": [
    {
     "data": {
      "text/plain": [
       "1576      989000.0\n",
       "7101     1175000.0\n",
       "14853     540000.0\n",
       "16091    1144954.2\n",
       "12218    1250000.0\n",
       "           ...    \n",
       "21575     332316.0\n",
       "5390      953300.0\n",
       "860      1350000.0\n",
       "15795     664224.0\n",
       "23654    1100000.0\n",
       "Name: price, Length: 16634, dtype: float64"
      ]
     },
     "execution_count": 9,
     "metadata": {},
     "output_type": "execute_result"
    }
   ],
   "source": [
    "y_train"
   ]
  },
  {
   "cell_type": "markdown",
   "id": "7edf74a2",
   "metadata": {},
   "source": [
    "## Building Pipeline"
   ]
  },
  {
   "cell_type": "code",
   "execution_count": 10,
   "id": "e7ae9b3d",
   "metadata": {},
   "outputs": [],
   "source": [
    "nominal_transformer = Pipeline(steps=[\n",
    "    ('onehot', OneHotEncoder(sparse=False))\n",
    "])\n",
    "\n",
    "preprocessor = ColumnTransformer(transformers=[\n",
    "    ('nominal', nominal_transformer,['city'])\n",
    "], remainder='passthrough')\n",
    "\n",
    "model = Pipeline(steps=[\n",
    "    ('preprocessor', preprocessor ),\n",
    "    ('scaler', StandardScaler()),\n",
    "    ('regressor', GradientBoostingRegressor())\n",
    "])"
   ]
  },
  {
   "cell_type": "markdown",
   "id": "9568fa72",
   "metadata": {},
   "source": [
    "## Training"
   ]
  },
  {
   "cell_type": "code",
   "execution_count": 11,
   "id": "b0c06e62",
   "metadata": {},
   "outputs": [
    {
     "data": {
      "text/plain": [
       "Pipeline(steps=[('preprocessor',\n",
       "                 ColumnTransformer(remainder='passthrough',\n",
       "                                   transformers=[('nominal',\n",
       "                                                  Pipeline(steps=[('onehot',\n",
       "                                                                   OneHotEncoder(sparse=False))]),\n",
       "                                                  ['city'])])),\n",
       "                ('scaler', StandardScaler()),\n",
       "                ('regressor', GradientBoostingRegressor())])"
      ]
     },
     "execution_count": 11,
     "metadata": {},
     "output_type": "execute_result"
    }
   ],
   "source": [
    "model.fit(X_train, y_train)"
   ]
  },
  {
   "cell_type": "markdown",
   "id": "8ebbae2e",
   "metadata": {},
   "source": [
    "## Results "
   ]
  },
  {
   "cell_type": "code",
   "execution_count": 12,
   "id": "291391ab",
   "metadata": {},
   "outputs": [
    {
     "name": "stdout",
     "output_type": "stream",
     "text": [
      "RMSE: 1151.38613\n"
     ]
    }
   ],
   "source": [
    "y_pred = model.predict(X_test)\n",
    "rmse = np.sqrt(np.mean(y_test - y_pred)**2)\n",
    "print('RMSE: {:.5f}'.format(rmse))"
   ]
  },
  {
   "cell_type": "code",
   "execution_count": 13,
   "id": "87c66a21",
   "metadata": {},
   "outputs": [],
   "source": [
    "baseline_errors = np.sum((y_test - np.mean(y_test))**2)\n",
    "model_errors = np.sum((y_test - y_pred)**2)"
   ]
  },
  {
   "cell_type": "code",
   "execution_count": 14,
   "id": "9df44d4c",
   "metadata": {},
   "outputs": [
    {
     "name": "stdout",
     "output_type": "stream",
     "text": [
      "R^2 Score: 0.78779\n"
     ]
    }
   ],
   "source": [
    "r2 = 1 - (model_errors / baseline_errors)\n",
    "print(\"R^2 Score: {:.5f}\".format(r2))"
   ]
  },
  {
   "cell_type": "code",
   "execution_count": 15,
   "id": "344b2589",
   "metadata": {},
   "outputs": [
    {
     "data": {
      "text/plain": [
       "0.7877943140679815"
      ]
     },
     "execution_count": 15,
     "metadata": {},
     "output_type": "execute_result"
    }
   ],
   "source": [
    "model.score(X_test, y_test)"
   ]
  },
  {
   "cell_type": "code",
   "execution_count": null,
   "id": "112482b7",
   "metadata": {},
   "outputs": [],
   "source": []
  }
 ],
 "metadata": {
  "kernelspec": {
   "display_name": "Python 3 (ipykernel)",
   "language": "python",
   "name": "python3"
  },
  "language_info": {
   "codemirror_mode": {
    "name": "ipython",
    "version": 3
   },
   "file_extension": ".py",
   "mimetype": "text/x-python",
   "name": "python",
   "nbconvert_exporter": "python",
   "pygments_lexer": "ipython3",
   "version": "3.9.7"
  }
 },
 "nbformat": 4,
 "nbformat_minor": 5
}
